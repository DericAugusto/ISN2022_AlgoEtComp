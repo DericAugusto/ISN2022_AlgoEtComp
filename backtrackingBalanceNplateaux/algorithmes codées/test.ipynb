{
 "cells": [
  {
   "attachments": {},
   "cell_type": "markdown",
   "metadata": {},
   "source": [
    "30/12/22\n",
    "\n",
    "Déric Augusto FRANÇA DE SALES\n",
    "\n",
    "\n",
    "# ENSEM ISN 2ème année - Algorithmique et Complexité\n",
    "--------------\n"
   ]
  },
  {
   "attachments": {},
   "cell_type": "markdown",
   "metadata": {},
   "source": [
    "Importer les fonctions créées :"
   ]
  },
  {
   "cell_type": "code",
   "execution_count": 8,
   "metadata": {},
   "outputs": [],
   "source": [
    "import os\n",
    "os.chdir(sys.path[0])\n",
    " \n",
    "from functions import balance2Plateaux \n",
    "from functions import backtracking \n",
    "from functions import backtrackingSol "
   ]
  },
  {
   "attachments": {},
   "cell_type": "markdown",
   "metadata": {},
   "source": [
    "Testando balanceamento em dois pratos :"
   ]
  },
  {
   "cell_type": "code",
   "execution_count": 15,
   "metadata": {},
   "outputs": [
    {
     "name": "stdout",
     "output_type": "stream",
     "text": [
      "Solution 1 :\n",
      "[[1 0 1 0 0]\n",
      " [0 1 0 0 1]\n",
      " [0 0 0 1 0]]\n",
      "Solution 2 :\n",
      "[[1 0 1 0 0]\n",
      " [0 1 0 0 1]\n",
      " [0 0 0 1 0]]\n",
      "Solution 3 :\n",
      "[[1 0 1 0 1 0]\n",
      " [0 1 0 0 0 0]\n",
      " [0 0 0 1 0 1]]\n",
      "Solution 4 :\n",
      "[[1 0 1 0 1 0]\n",
      " [0 1 0 0 0 0]\n",
      " [0 0 0 1 0 1]]\n"
     ]
    }
   ],
   "source": [
    "n = 3\n",
    "\n",
    "W1 = [3, 2, 1, 4, 2]\n",
    "W2 = [1, 2, 3, 6]\n",
    "W3 = [3, 13, 9, 8, 1, 5]\n",
    "W4 = [3, 10, 15, 5, 2, 1]\n",
    "\n",
    "sol1 = backtracking(W1,n)\n",
    "print(\"Solution 1 :\"); print(sol1)\n",
    "del()\n",
    "\n",
    "sol2 = backtracking(W2,n)\n",
    "print(\"Solution 2 :\"); print(sol2)\n",
    "\n",
    "sol3 = backtracking(W3,n)\n",
    "print(\"Solution 3 :\"); print(sol3)\n",
    "\n",
    "sol4 = backtracking(W4,n)\n",
    "print(\"Solution 4 :\"); print(sol4)"
   ]
  },
  {
   "attachments": {},
   "cell_type": "markdown",
   "metadata": {},
   "source": [
    "É possível notar que a função **backtraking** funciona para esse exemplo, mas a função **balance2Plateaux** inicialmente gerada não devolve a solução ótima."
   ]
  },
  {
   "attachments": {},
   "cell_type": "markdown",
   "metadata": {},
   "source": [
    "Testaremos agora exemplos para 3 ou mais pratos onde pode haver balenceamento."
   ]
  },
  {
   "cell_type": "code",
   "execution_count": null,
   "metadata": {},
   "outputs": [],
   "source": [
    "n = 2\n",
    "\n",
    "W1 = [5,1,3,3,4,2]\n",
    "print(bk(W1, n))\n",
    "\n",
    "print()\n",
    "\n",
    "W2 = [3,1,3,4,2,5]\n",
    "print(bk(W2, n))"
   ]
  },
  {
   "attachments": {},
   "cell_type": "markdown",
   "metadata": {},
   "source": [
    "É possível notar que mesmo com uma ordem diferente a função continua devolvendo a solução ótima."
   ]
  },
  {
   "attachments": {},
   "cell_type": "markdown",
   "metadata": {},
   "source": [
    "Testando casos sem solução trivial (balanceamento perfeito entre os pratos)."
   ]
  },
  {
   "cell_type": "code",
   "execution_count": null,
   "metadata": {},
   "outputs": [],
   "source": [
    "W4 = [1, 2, 4, 6]\n",
    "W5 = [1,2,3,4,5,6,7,8,9]\n",
    "print(bk(W4, 3))\n",
    "print()\n",
    "print(bk(W5, 3))"
   ]
  }
 ],
 "metadata": {
  "kernelspec": {
   "display_name": "Python 3.7.4 64-bit",
   "language": "python",
   "name": "python3"
  },
  "language_info": {
   "codemirror_mode": {
    "name": "ipython",
    "version": 3
   },
   "file_extension": ".py",
   "mimetype": "text/x-python",
   "name": "python",
   "nbconvert_exporter": "python",
   "pygments_lexer": "ipython3",
   "version": "3.7.4"
  },
  "orig_nbformat": 4,
  "vscode": {
   "interpreter": {
    "hash": "bd470f0ffdd07adfa116ca799c904aa2ba432e2847a5c0853210008b3c14aa46"
   }
  }
 },
 "nbformat": 4,
 "nbformat_minor": 2
}
