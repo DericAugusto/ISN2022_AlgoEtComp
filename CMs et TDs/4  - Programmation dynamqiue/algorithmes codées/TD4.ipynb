{
 "cells": [
  {
   "cell_type": "markdown",
   "metadata": {},
   "source": [
    "29/11/22\n",
    "\n",
    "Déric Augusto FRANÇA DE SALES\n",
    "\n",
    "\n",
    "# ENSEM ISN 2ème année - Algorithmique et Complexité\n",
    "--------------\n",
    "## Programmation Dynamique\n",
    "--------------\n",
    "Algorithmes : \n",
    "\n"
   ]
  },
  {
   "cell_type": "markdown",
   "metadata": {},
   "source": [
    "### plus longue sous séquence commune \n",
    "\n",
    "(Longest Common Subsequence Problem)"
   ]
  },
  {
   "cell_type": "code",
   "execution_count": 1,
   "metadata": {},
   "outputs": [],
   "source": [
    "def plss(X, Y, i, j):\n",
    "  if (i == 0 or j == 0):\n",
    "    return 0\n",
    "  else:\n",
    "    if X[i-1] == Y[j-1]:\n",
    "      return (plss(X, Y, i-1, j-1) + 1)\n",
    "    else:\n",
    "      return max(plss(X, Y, i, j-1), plss(X, Y, i-1, j))"
   ]
  },
  {
   "cell_type": "markdown",
   "metadata": {},
   "source": [
    "test :"
   ]
  },
  {
   "cell_type": "code",
   "execution_count": 2,
   "metadata": {},
   "outputs": [
    {
     "name": "stdout",
     "output_type": "stream",
     "text": [
      "2\n"
     ]
    }
   ],
   "source": [
    "X = \"qisuddsfhes\"\n",
    "Y = \"ujjjdd\"\n",
    "\n",
    "print(plss(X, Y, 5, 6))"
   ]
  },
  {
   "cell_type": "markdown",
   "metadata": {},
   "source": [
    "### Problème de somme \n",
    "tester tout les possibilités de somme de un numéro N avec les autres numeros a_m."
   ]
  },
  {
   "cell_type": "code",
   "execution_count": 1,
   "metadata": {},
   "outputs": [],
   "source": [
    "def D(n):\n",
    "  # les cas triviaux\n",
    "  if (n == 2 or  n == 1 or n == 0):\n",
    "    return 1\n",
    "  elif (n == 3):\n",
    "    return 2\n",
    "  # cas recursif\n",
    "  else:\n",
    "    return (D(n-1) + D(n-3) + D(n-4))"
   ]
  },
  {
   "cell_type": "code",
   "execution_count": null,
   "metadata": {},
   "outputs": [],
   "source": [
    "def Dm(n):\n",
    "  # recursif avec memorisation (incomplet)\n",
    "  solutions = [-1]*(n+1-4)\n",
    "  def DmIntern(n):\n",
    "  # les 4 cas triviaux\n",
    "    if (n == 2 or  n == 1 or n == 0):\n",
    "      return 1\n",
    "    elif (n == 3):\n",
    "      return 2\n",
    "    else:\n",
    "      if solutions[n-4] != -1:\n",
    "        return solutions[n-4]\n",
    "      # cas recursif\n",
    "      else:\n",
    "        solutions[n-4] = D(n-1) + D(n-3) + D(n-4)\n",
    "        return solutions[n-4]\n",
    "  DmIntern(n)\n",
    "\n",
    "\n",
    "\n",
    "  "
   ]
  },
  {
   "cell_type": "code",
   "execution_count": null,
   "metadata": {},
   "outputs": [],
   "source": [
    "def Di(n):\n",
    "  # iteratif\n",
    "  if (n == 0 or n == 2 or n == 1):\n",
    "    return 1\n",
    "  elif (n == 3):\n",
    "    return 2\n",
    "  elif (n == 4):\n",
    "    return 4\n",
    "  else:\n",
    "    count = 0\n",
    "    sum = 0\n",
    "    while sum != n:\n",
    "      sum += \n",
    "\n"
   ]
  },
  {
   "cell_type": "markdown",
   "metadata": {},
   "source": [
    "test :"
   ]
  },
  {
   "cell_type": "code",
   "execution_count": 2,
   "metadata": {},
   "outputs": [
    {
     "name": "stdout",
     "output_type": "stream",
     "text": [
      "6\n"
     ]
    }
   ],
   "source": [
    "print(D(5))"
   ]
  },
  {
   "cell_type": "code",
   "execution_count": null,
   "metadata": {},
   "outputs": [],
   "source": []
  },
  {
   "attachments": {},
   "cell_type": "markdown",
   "metadata": {},
   "source": [
    "solution :\n",
    "\n",
    "5 \n",
    "\n",
    " = 4 + 1 = 1 + 4\n",
    "\n",
    " = 3 + 2 = 2 + 3\n",
    "\n",
    " = 3 + 1 + 1 = 1 + 3 + 1 = 1 + 1 + 3\n",
    "\n",
    " = 2 + 2 + 1 = 2 + 1 + 2 = 1 + 2 + 2\n",
    "\n",
    " = 2 + 1 + 1 + 1 = 1 + 2 + 1 + 1 = 1 + 1 + 2 + 1 = 1 + 1 + 1 + 2\n",
    "\n",
    " = 1 + 1 + 1 + 1 + 1\n",
    "\n",
    " -> 15 considerando a ordem\n",
    " \n",
    " -> 6 desconsiderando a ordem"
   ]
  }
 ],
 "metadata": {
  "kernelspec": {
   "display_name": "Python 3.7.4 64-bit",
   "language": "python",
   "name": "python3"
  },
  "language_info": {
   "codemirror_mode": {
    "name": "ipython",
    "version": 3
   },
   "file_extension": ".py",
   "mimetype": "text/x-python",
   "name": "python",
   "nbconvert_exporter": "python",
   "pygments_lexer": "ipython3",
   "version": "3.7.4 (tags/v3.7.4:e09359112e, Jul  8 2019, 20:34:20) [MSC v.1916 64 bit (AMD64)]"
  },
  "orig_nbformat": 4,
  "vscode": {
   "interpreter": {
    "hash": "bd470f0ffdd07adfa116ca799c904aa2ba432e2847a5c0853210008b3c14aa46"
   }
  }
 },
 "nbformat": 4,
 "nbformat_minor": 2
}
